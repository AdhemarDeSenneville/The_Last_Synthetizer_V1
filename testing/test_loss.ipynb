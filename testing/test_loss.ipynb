{
 "cells": [
  {
   "cell_type": "code",
   "execution_count": 1,
   "metadata": {},
   "outputs": [],
   "source": [
    "import torch\n",
    "import sys\n",
    "import os\n",
    "\n",
    "# Append the parent directory (..) to sys.path\n",
    "#sys.path.append('..')\n",
    "#sys.path"
   ]
  },
  {
   "cell_type": "code",
   "execution_count": 2,
   "metadata": {},
   "outputs": [],
   "source": [
    "sys.path.append(os.path.abspath('..'))"
   ]
  },
  {
   "cell_type": "code",
   "execution_count": 3,
   "metadata": {},
   "outputs": [
    {
     "data": {
      "text/plain": [
       "['C:\\\\Users\\\\adhem\\\\Anaconda3\\\\Library\\\\bin',\n",
       " 'c:\\\\Users\\\\adhem\\\\anaconda3\\\\envs\\\\Audio\\\\python311.zip',\n",
       " 'c:\\\\Users\\\\adhem\\\\anaconda3\\\\envs\\\\Audio\\\\DLLs',\n",
       " 'c:\\\\Users\\\\adhem\\\\anaconda3\\\\envs\\\\Audio\\\\Lib',\n",
       " 'c:\\\\Users\\\\adhem\\\\anaconda3\\\\envs\\\\Audio',\n",
       " '',\n",
       " 'c:\\\\Users\\\\adhem\\\\anaconda3\\\\envs\\\\Audio\\\\Lib\\\\site-packages',\n",
       " 'c:\\\\Users\\\\adhem\\\\anaconda3\\\\envs\\\\Audio\\\\Lib\\\\site-packages\\\\win32',\n",
       " 'c:\\\\Users\\\\adhem\\\\anaconda3\\\\envs\\\\Audio\\\\Lib\\\\site-packages\\\\win32\\\\lib',\n",
       " 'c:\\\\Users\\\\adhem\\\\anaconda3\\\\envs\\\\Audio\\\\Lib\\\\site-packages\\\\Pythonwin',\n",
       " 'c:\\\\Users\\\\adhem\\\\anaconda3\\\\envs\\\\Audio\\\\Lib\\\\site-packages\\\\setuptools\\\\_vendor',\n",
       " 'c:\\\\Users\\\\adhem\\\\Desktop\\\\Music\\\\Custom_VST']"
      ]
     },
     "execution_count": 3,
     "metadata": {},
     "output_type": "execute_result"
    }
   ],
   "source": [
    "sys.path"
   ]
  },
  {
   "cell_type": "code",
   "execution_count": 4,
   "metadata": {},
   "outputs": [],
   "source": [
    "from models.autoencoders.encoder_1D import Autoencoder1d"
   ]
  },
  {
   "cell_type": "code",
   "execution_count": 5,
   "metadata": {},
   "outputs": [],
   "source": [
    "from models.losses.factory import *"
   ]
  },
  {
   "cell_type": "code",
   "execution_count": 6,
   "metadata": {},
   "outputs": [],
   "source": [
    "loss_cfg = {\n",
    "    'L1TemporalLoss':{\n",
    "        'weight':10,\n",
    "        'balancer': False,\n",
    "        'key_output': 'x_hat',\n",
    "        'key_target': 'x',\n",
    "        },\n",
    "    'L2TemporalLoss':{\n",
    "        'weight':100,\n",
    "        'balancer': False,\n",
    "        'key_output': 'x_hat',\n",
    "        'key_target': 'x',\n",
    "        },\n",
    "    'AuralossLoss':{\n",
    "        'weight':1,\n",
    "        'balancer': False,\n",
    "        'key_output': 'x_hat',\n",
    "        'key_target': 'x',\n",
    "        \"fft_sizes\": [32, 128, 512, 2048],  # [32, 128, 512, 2048, 8192, 32768]\n",
    "        \"hop_sizes\": [16, 64, 256, 1024],  # [16, 64, 256, 1024, 4096, 16384]\n",
    "        \"win_lengths\": [32, 128, 512, 2048],  # [32, 128, 512, 2048, 8192, 32768]\n",
    "        \"w_sc\": 0.0,\n",
    "        \"w_phs\": 0.0,\n",
    "        \"w_lin_mag\": 1.0,\n",
    "        \"w_log_mag\": 1.0,\n",
    "    },\n",
    "    #'KLDivergenceLoss':{\n",
    "    #    'weight':0,\n",
    "    #    'balancer': False,\n",
    "    #    'key_mean': 'z_mean',\n",
    "    #    'key_log_std': 'z_log_std',\n",
    "    #    },\n",
    "    'Discriminator':{\n",
    "        'weight':5,\n",
    "        'balancer': False,\n",
    "        #'type':'Spectrogram_VGGStyle',\n",
    "    },\n",
    "    'FeatureLoss':{\n",
    "        'weight':1,\n",
    "        'balancer': False,\n",
    "    },\n",
    "}"
   ]
  },
  {
   "cell_type": "code",
   "execution_count": 7,
   "metadata": {},
   "outputs": [],
   "source": [
    "test_loss = CraftLosses(**loss_cfg)"
   ]
  },
  {
   "cell_type": "code",
   "execution_count": 8,
   "metadata": {},
   "outputs": [
    {
     "data": {
      "text/plain": [
       "{'generator_loss': 5,\n",
       " 'feature_loss': 1,\n",
       " 'l1_loss': 10,\n",
       " 'l2_loss': 100,\n",
       " 'aura_loss': 1}"
      ]
     },
     "execution_count": 8,
     "metadata": {},
     "output_type": "execute_result"
    }
   ],
   "source": [
    "test_loss.nobalancer_config"
   ]
  },
  {
   "cell_type": "code",
   "execution_count": 9,
   "metadata": {},
   "outputs": [
    {
     "data": {
      "text/plain": [
       "{}"
      ]
     },
     "execution_count": 9,
     "metadata": {},
     "output_type": "execute_result"
    }
   ],
   "source": [
    "test_loss.balancer_config"
   ]
  },
  {
   "cell_type": "code",
   "execution_count": 10,
   "metadata": {},
   "outputs": [
    {
     "data": {
      "text/plain": [
       "{'generator_loss': 0.597416341304779,\n",
       " 'feature_loss': 6.265276908874512,\n",
       " 'l1_loss': 8.513725280761719,\n",
       " 'l2_loss': 113.57705688476562,\n",
       " 'aura_loss': 12.271647453308105,\n",
       " 'global_loss': 141.22512286901474}"
      ]
     },
     "execution_count": 10,
     "metadata": {},
     "output_type": "execute_result"
    }
   ],
   "source": [
    "model_config = {\n",
    "    'in_channels': 1,\n",
    "    'out_channels': 16,\n",
    "    'channels': [16, 32, 64, 64],\n",
    "    'factors': [4, 4, 4, 4],\n",
    "    'res_blocks': 2,\n",
    "    'activation': 'relu',\n",
    "    'use_norm': True,\n",
    "    'num_groups': 4,\n",
    "    'variational': False,\n",
    "    'lstm': False,\n",
    "}\n",
    "\n",
    "test_autoencoder_model = Autoencoder1d(**model_config)\n",
    "\n",
    "input_tensor = torch.randn(7, 1, 44025)\n",
    "\n",
    "x_tensor = test_autoencoder_model(input_tensor)\n",
    "x_tensor['x'] = input_tensor\n",
    "\n",
    "test_loss.backward(x_tensor)"
   ]
  },
  {
   "cell_type": "code",
   "execution_count": 11,
   "metadata": {},
   "outputs": [
    {
     "data": {
      "text/plain": [
       "torch.Size([7, 1, 44025])"
      ]
     },
     "execution_count": 11,
     "metadata": {},
     "output_type": "execute_result"
    }
   ],
   "source": [
    "x_tensor['x'].shape"
   ]
  },
  {
   "cell_type": "code",
   "execution_count": 12,
   "metadata": {},
   "outputs": [
    {
     "data": {
      "text/plain": [
       "torch.Size([7, 1, 44025])"
      ]
     },
     "execution_count": 12,
     "metadata": {},
     "output_type": "execute_result"
    }
   ],
   "source": [
    "x_tensor['x_hat'].shape"
   ]
  }
 ],
 "metadata": {
  "kernelspec": {
   "display_name": "Audio",
   "language": "python",
   "name": "python3"
  },
  "language_info": {
   "codemirror_mode": {
    "name": "ipython",
    "version": 3
   },
   "file_extension": ".py",
   "mimetype": "text/x-python",
   "name": "python",
   "nbconvert_exporter": "python",
   "pygments_lexer": "ipython3",
   "version": "3.11.9"
  }
 },
 "nbformat": 4,
 "nbformat_minor": 2
}
