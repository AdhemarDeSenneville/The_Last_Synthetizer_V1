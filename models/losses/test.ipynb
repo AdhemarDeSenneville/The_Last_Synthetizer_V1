{
 "cells": [
  {
   "cell_type": "code",
   "execution_count": 6,
   "metadata": {},
   "outputs": [
    {
     "ename": "ImportError",
     "evalue": "cannot import name 'NoBalancer' from 'balancer' (c:\\Users\\adhem\\Desktop\\Music\\Custom_VST\\code\\models\\losses\\balancer.py)",
     "output_type": "error",
     "traceback": [
      "\u001b[1;31m---------------------------------------------------------------------------\u001b[0m",
      "\u001b[1;31mImportError\u001b[0m                               Traceback (most recent call last)",
      "Cell \u001b[1;32mIn[6], line 1\u001b[0m\n\u001b[1;32m----> 1\u001b[0m \u001b[38;5;28;01mfrom\u001b[39;00m \u001b[38;5;21;01mfactory\u001b[39;00m \u001b[38;5;28;01mimport\u001b[39;00m \u001b[38;5;241m*\u001b[39m\n",
      "File \u001b[1;32mc:\\Users\\adhem\\Desktop\\Music\\Custom_VST\\code\\models\\losses\\factory.py:4\u001b[0m\n\u001b[0;32m      1\u001b[0m \u001b[38;5;66;03m# file name inspired by Stability AI\u001b[39;00m\n\u001b[0;32m      2\u001b[0m \u001b[38;5;66;03m# A bit complicated, but modularity will be useful for my future projects\u001b[39;00m\n\u001b[1;32m----> 4\u001b[0m \u001b[38;5;28;01mfrom\u001b[39;00m \u001b[38;5;21;01mbalancer\u001b[39;00m \u001b[38;5;28;01mimport\u001b[39;00m Balancer, NoBalancer\n\u001b[0;32m      5\u001b[0m \u001b[38;5;28;01mfrom\u001b[39;00m \u001b[38;5;21;01mlosses\u001b[39;00m \u001b[38;5;28;01mimport\u001b[39;00m L1TemporalLoss, L2TemporalLoss, AuralossLoss\n\u001b[0;32m      6\u001b[0m \u001b[38;5;28;01mfrom\u001b[39;00m \u001b[38;5;21;01mdiscriminator\u001b[39;00m \u001b[38;5;28;01mimport\u001b[39;00m Discriminator\n",
      "\u001b[1;31mImportError\u001b[0m: cannot import name 'NoBalancer' from 'balancer' (c:\\Users\\adhem\\Desktop\\Music\\Custom_VST\\code\\models\\losses\\balancer.py)"
     ]
    }
   ],
   "source": [
    "from factory import *"
   ]
  },
  {
   "cell_type": "code",
   "execution_count": null,
   "metadata": {},
   "outputs": [],
   "source": [
    "cfg = {\n",
    "    'L1TemporalLoss':{\n",
    "        'weight':1,\n",
    "        'balancer': True,\n",
    "        'key_output': 'x_hat',\n",
    "        'key_target': 'x',\n",
    "        },\n",
    "    'L2TemporalLoss':{\n",
    "        'weight':1,\n",
    "        'balancer': True,\n",
    "        'key_output': 'x_hat',\n",
    "        'key_target': 'x',\n",
    "        },\n",
    "    'AuralossLoss':{\n",
    "        'weight':1,\n",
    "        'balancer': True,\n",
    "        'key_output': 'x_hat',\n",
    "        'key_target': 'x',\n",
    "        \"fft_sizes\": [32, 128, 512, 2048],  # [32, 128, 512, 2048, 8192, 32768]\n",
    "        \"hop_sizes\": [16, 64, 256, 1024],  # [16, 64, 256, 1024, 4096, 16384]\n",
    "        \"win_lengths\": [32, 128, 512, 2048],  # [32, 128, 512, 2048, 8192, 32768]\n",
    "        \"w_sc\": 0.0,\n",
    "        \"w_phs\": 0.0,\n",
    "        \"w_lin_mag\": 1.0,\n",
    "        \"w_log_mag\": 1.0,\n",
    "    },\n",
    "    'KLDivergenceLoss':{\n",
    "        'weight':1,\n",
    "        'balancer': False,\n",
    "        'key_mean': 'z_mean',\n",
    "        'key_log_std': 'z_log_std',\n",
    "        },\n",
    "    'Discriminator':{\n",
    "        'weight':1,\n",
    "        'balancer': True,\n",
    "        'type':'Spectrogram_VGGStyle',\n",
    "    },\n",
    "    'FeatureLoss':{\n",
    "        'weight':1,\n",
    "        \n",
    "    },\n",
    "    }"
   ]
  },
  {
   "cell_type": "code",
   "execution_count": null,
   "metadata": {},
   "outputs": [],
   "source": [
    "CraftLosses(**cfg)"
   ]
  }
 ],
 "metadata": {
  "kernelspec": {
   "display_name": "Audio",
   "language": "python",
   "name": "python3"
  },
  "language_info": {
   "codemirror_mode": {
    "name": "ipython",
    "version": 3
   },
   "file_extension": ".py",
   "mimetype": "text/x-python",
   "name": "python",
   "nbconvert_exporter": "python",
   "pygments_lexer": "ipython3",
   "version": "3.11.9"
  }
 },
 "nbformat": 4,
 "nbformat_minor": 2
}
