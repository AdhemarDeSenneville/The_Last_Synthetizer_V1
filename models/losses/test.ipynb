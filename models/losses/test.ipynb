{
 "cells": [
  {
   "cell_type": "code",
   "execution_count": 1,
   "metadata": {},
   "outputs": [
    {
     "name": "stderr",
     "output_type": "stream",
     "text": [
      "c:\\Users\\adhem\\anaconda3\\envs\\Audio\\Lib\\site-packages\\torch\\_subclasses\\functional_tensor.py:258: UserWarning: Failed to initialize NumPy: DLL load failed while importing _multiarray_umath: The specified module could not be found. (Triggered internally at C:\\cb\\pytorch_1000000000000\\work\\torch\\csrc\\utils\\tensor_numpy.cpp:84.)\n",
      "  cpu = _conversion_method_template(device=torch.device(\"cpu\"))\n"
     ]
    }
   ],
   "source": [
    "import torch\n",
    "import sys\n",
    "import os\n",
    "\n",
    "# Append the parent directory (..) to sys.path\n",
    "sys.path.append('..')\n",
    "from autoencoders.encoder_1D import Autoencoder1d"
   ]
  },
  {
   "cell_type": "code",
   "execution_count": 2,
   "metadata": {},
   "outputs": [],
   "source": [
    "from factory import *"
   ]
  },
  {
   "cell_type": "code",
   "execution_count": 3,
   "metadata": {},
   "outputs": [],
   "source": [
    "cfg = {\n",
    "    'L1TemporalLoss':{\n",
    "        'weight':1,\n",
    "        'balancer': True,\n",
    "        'key_output': 'x_hat',\n",
    "        'key_target': 'x',\n",
    "        },\n",
    "    'L2TemporalLoss':{\n",
    "        'weight':1,\n",
    "        'balancer': True,\n",
    "        'key_output': 'x_hat',\n",
    "        'key_target': 'x',\n",
    "        },\n",
    "    'AuralossLoss':{\n",
    "        'weight':1,\n",
    "        'balancer': True,\n",
    "        'key_output': 'x_hat',\n",
    "        'key_target': 'x',\n",
    "        \"fft_sizes\": [32, 128, 512, 2048],  # [32, 128, 512, 2048, 8192, 32768]\n",
    "        \"hop_sizes\": [16, 64, 256, 1024],  # [16, 64, 256, 1024, 4096, 16384]\n",
    "        \"win_lengths\": [32, 128, 512, 2048],  # [32, 128, 512, 2048, 8192, 32768]\n",
    "        \"w_sc\": 0.0,\n",
    "        \"w_phs\": 0.0,\n",
    "        \"w_lin_mag\": 1.0,\n",
    "        \"w_log_mag\": 1.0,\n",
    "    },\n",
    "    'KLDivergenceLoss':{\n",
    "        'weight':1,\n",
    "        'balancer': False,\n",
    "        'key_mean': 'z_mean',\n",
    "        'key_log_std': 'z_log_std',\n",
    "        },\n",
    "    'Discriminator':{\n",
    "        'weight':1,\n",
    "        'balancer': True,\n",
    "        #'type':'Spectrogram_VGGStyle',\n",
    "    },\n",
    "    'FeatureLoss':{\n",
    "        'weight':1,\n",
    "        'balancer': True,        \n",
    "    },\n",
    "    }"
   ]
  },
  {
   "cell_type": "code",
   "execution_count": 4,
   "metadata": {},
   "outputs": [],
   "source": [
    "test_loss = CraftLosses(**cfg)"
   ]
  },
  {
   "cell_type": "code",
   "execution_count": 5,
   "metadata": {},
   "outputs": [
    {
     "data": {
      "text/plain": [
       "{'kl_divergence_loss': 1}"
      ]
     },
     "execution_count": 5,
     "metadata": {},
     "output_type": "execute_result"
    }
   ],
   "source": [
    "test_loss.nobalancer_config"
   ]
  },
  {
   "cell_type": "code",
   "execution_count": 6,
   "metadata": {},
   "outputs": [
    {
     "data": {
      "text/plain": [
       "{'discriminator_loss': 1,\n",
       " 'feature_loss': 1,\n",
       " 'l1_loss': 1,\n",
       " 'l2_loss': 1,\n",
       " 'aura_loss': 1}"
      ]
     },
     "execution_count": 6,
     "metadata": {},
     "output_type": "execute_result"
    }
   ],
   "source": [
    "test_loss.balancer_config"
   ]
  },
  {
   "cell_type": "code",
   "execution_count": 7,
   "metadata": {},
   "outputs": [
    {
     "name": "stdout",
     "output_type": "stream",
     "text": [
      "0 torch.Size([7, 32, 513, 172])\n",
      "1 torch.Size([7, 32, 513, 86])\n",
      "2 torch.Size([7, 32, 511, 43])\n",
      "3 torch.Size([7, 32, 505, 22])\n",
      "4 torch.Size([7, 32, 503, 20])\n",
      "torch.Size([7, 501, 18])\n",
      "torch.Size([7, 16])\n",
      "0 torch.Size([7, 32, 513, 172])\n",
      "1 torch.Size([7, 32, 513, 86])\n",
      "2 torch.Size([7, 32, 511, 43])\n",
      "3 torch.Size([7, 32, 505, 22])\n",
      "4 torch.Size([7, 32, 503, 20])\n",
      "torch.Size([7, 501, 18])\n",
      "torch.Size([7, 16])\n"
     ]
    }
   ],
   "source": [
    "model_config = {\n",
    "    'in_channels': 2,\n",
    "    'out_channels': 16,\n",
    "    'channels': [16, 32, 64, 64],\n",
    "    'factors': [4, 4, 4, 4],\n",
    "    'res_blocks': 2,\n",
    "    'activation': nn.ReLU,\n",
    "    'use_norm': True,\n",
    "    'variational': True,\n",
    "    'lstm': True,\n",
    "}\n",
    "\n",
    "test_autoencoder_model = Autoencoder1d(**model_config)\n",
    "\n",
    "input_tensor = torch.randn(7, 2, 44025)\n",
    "\n",
    "x_tensor = test_autoencoder_model(input_tensor)\n",
    "x_tensor['x'] = input_tensor\n",
    "\n",
    "test_loss.backward(x_tensor)"
   ]
  },
  {
   "cell_type": "code",
   "execution_count": null,
   "metadata": {},
   "outputs": [],
   "source": []
  }
 ],
 "metadata": {
  "kernelspec": {
   "display_name": "Audio",
   "language": "python",
   "name": "python3"
  },
  "language_info": {
   "codemirror_mode": {
    "name": "ipython",
    "version": 3
   },
   "file_extension": ".py",
   "mimetype": "text/x-python",
   "name": "python",
   "nbconvert_exporter": "python",
   "pygments_lexer": "ipython3",
   "version": "3.11.9"
  }
 },
 "nbformat": 4,
 "nbformat_minor": 2
}
